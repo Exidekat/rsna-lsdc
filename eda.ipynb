{
 "cells": [
  {
   "cell_type": "markdown",
   "id": "0",
   "metadata": {},
   "source": [
    "## EDA Workbook\n",
    "Attempting Lumbar Spinal Degenerative Classification"
   ]
  },
  {
   "cell_type": "markdown",
   "id": "1",
   "metadata": {},
   "source": [
    "## Creating a Config\n",
    "Standardizing notebook changes with a dedicated CFG object"
   ]
  },
  {
   "cell_type": "code",
   "execution_count": null,
   "id": "2",
   "metadata": {},
   "outputs": [],
   "source": [
    "from pathlib import Path"
   ]
  },
  {
   "cell_type": "code",
   "execution_count": null,
   "id": "3",
   "metadata": {},
   "outputs": [],
   "source": [
    "class CFG:\n",
    "    DATA_DIR = Path('data/')\n",
    "    #DATA_DIR = Path('/kaggle/input/rsna-2024-lumbar-spine-degenerative-classification/)"
   ]
  },
  {
   "cell_type": "markdown",
   "id": "4",
   "metadata": {},
   "source": [
    "## Exploring Available Data\n",
    "Courtesy of Abhinav Suri\n",
    "<https://www.kaggle.com/code/abhinavsuri/anatomy-image-visualization-overview-rsna-raids>"
   ]
  },
  {
   "cell_type": "code",
   "execution_count": null,
   "id": "5",
   "metadata": {},
   "outputs": [],
   "source": [
    "import pandas as pd\n",
    "import matplotlib.pyplot as plt\n",
    "import cv2\n",
    "import pydicom\n",
    "import numpy as np\n",
    "import os\n",
    "import glob\n",
    "from tqdm import tqdm\n",
    "import warnings"
   ]
  },
  {
   "cell_type": "code",
   "execution_count": null,
   "id": "6",
   "metadata": {},
   "outputs": [],
   "source": [
    "train = pd.read_csv(CFG.DATA_DIR / 'train.csv')"
   ]
  },
  {
   "cell_type": "code",
   "execution_count": null,
   "id": "7",
   "metadata": {},
   "outputs": [],
   "source": [
    "print(\"Total Cases: \", len(train))"
   ]
  },
  {
   "cell_type": "code",
   "execution_count": null,
   "id": "8",
   "metadata": {},
   "outputs": [],
   "source": [
    "train.columns"
   ]
  },
  {
   "cell_type": "code",
   "execution_count": null,
   "id": "9",
   "metadata": {},
   "outputs": [],
   "source": [
    "figure, axis = plt.subplots(1,3, figsize=(20,5)) \n",
    "for idx, d in enumerate(['foraminal', 'subarticular', 'canal']):\n",
    "    diagnosis = list(filter(lambda x: x.find(d) > -1, train.columns))\n",
    "    dff = train[diagnosis]\n",
    "    with warnings.catch_warnings():\n",
    "        warnings.simplefilter(action='ignore', category=FutureWarning)\n",
    "        value_counts = dff.apply(pd.value_counts).fillna(0).T\n",
    "    value_counts.plot(kind='bar', stacked=True, ax=axis[idx])\n",
    "    axis[idx].set_title(f'{d} distribution')"
   ]
  },
  {
   "cell_type": "markdown",
   "id": "10",
   "metadata": {},
   "source": [
    "todo; evaluate rebalancing of data based on above"
   ]
  },
  {
   "cell_type": "markdown",
   "id": "11",
   "metadata": {},
   "source": [
    "### Grab metadata for each scan.\n",
    "For each scan let's create an object with the following structure:\n",
    "\n",
    "    meta_obj = {\n",
    "        StudyInstanceUID: {\n",
    "            'folder_path': ... # path to the folder,\n",
    "            'SeriesInstanceUIDs': [ Array of the SeriesInstanceUIDs ],\n",
    "            'SeriesDescriptions' [ Array of the Series Descriptions ]\n",
    "        }, ...\n",
    "    }"
   ]
  },
  {
   "cell_type": "code",
   "execution_count": null,
   "id": "12",
   "metadata": {},
   "outputs": [],
   "source": [
    "# List out all the Studies we have on patients.\n",
    "part_1 = os.listdir(CFG.DATA_DIR / 'train_images')\n",
    "part_1 = list(filter(lambda x: x.find('.DS') == -1, part_1))"
   ]
  },
  {
   "cell_type": "code",
   "execution_count": null,
   "id": "13",
   "metadata": {},
   "outputs": [],
   "source": [
    "df_meta_f = pd.read_csv(CFG.DATA_DIR / 'train_series_descriptions.csv')"
   ]
  },
  {
   "cell_type": "code",
   "execution_count": null,
   "id": "14",
   "metadata": {},
   "outputs": [],
   "source": [
    "p1 = [(x, CFG.DATA_DIR / f\"train_images/{x}\") for x in part_1]\n",
    "meta_obj = { p[0]: {    'folder_path': p[1], \n",
    "                        'SeriesInstanceUIDs': [] } \n",
    "            for p in p1 }"
   ]
  },
  {
   "cell_type": "code",
   "execution_count": null,
   "id": "15",
   "metadata": {},
   "outputs": [],
   "source": [
    "for m in meta_obj:\n",
    "    meta_obj[m]['SeriesInstanceUIDs'] = list(\n",
    "        filter(lambda x: x.find('.DS') == -1, \n",
    "               os.listdir(meta_obj[m]['folder_path'])\n",
    "              )\n",
    "    )"
   ]
  },
  {
   "cell_type": "code",
   "execution_count": null,
   "id": "16",
   "metadata": {},
   "outputs": [],
   "source": [
    "# grabs the corresponding series descriptions\n",
    "for k in tqdm(meta_obj):\n",
    "    for s in meta_obj[k]['SeriesInstanceUIDs']:\n",
    "        if 'SeriesDescriptions' not in meta_obj[k]:\n",
    "            meta_obj[k]['SeriesDescriptions'] = []\n",
    "        try:\n",
    "            meta_obj[k]['SeriesDescriptions'].append(\n",
    "                df_meta_f[(df_meta_f['study_id'] == int(k)) & \n",
    "                (df_meta_f['series_id'] == int(s))]['series_description'].iloc[0])\n",
    "        except:\n",
    "            print(\"Failed on\", s, k)"
   ]
  },
  {
   "cell_type": "code",
   "execution_count": null,
   "id": "17",
   "metadata": {},
   "outputs": [],
   "source": [
    "meta_obj[list(meta_obj.keys())[1]]"
   ]
  },
  {
   "cell_type": "markdown",
   "id": "18",
   "metadata": {},
   "source": [
    "### Single study (patient) example"
   ]
  },
  {
   "cell_type": "code",
   "execution_count": null,
   "id": "19",
   "metadata": {},
   "outputs": [],
   "source": [
    "patient = train.iloc[1]"
   ]
  },
  {
   "cell_type": "code",
   "execution_count": null,
   "id": "20",
   "metadata": {},
   "outputs": [],
   "source": [
    "ptobj = meta_obj[str(patient['study_id'])]"
   ]
  },
  {
   "cell_type": "code",
   "execution_count": null,
   "id": "21",
   "metadata": {},
   "outputs": [],
   "source": [
    "print(ptobj)"
   ]
  },
  {
   "cell_type": "code",
   "execution_count": null,
   "id": "22",
   "metadata": {},
   "outputs": [],
   "source": [
    "# Get data into the format\n",
    "\"\"\"\n",
    "im_list_dcm = {\n",
    "    '{SeriesInstanceUID}': {\n",
    "        'images': [\n",
    "            {'SOPInstanceUID': ...,\n",
    "             'dicom': PyDicom object\n",
    "            },\n",
    "            ...,\n",
    "        ],\n",
    "        'description': # SeriesDescription\n",
    "    },\n",
    "    ...\n",
    "}\n",
    "\"\"\"\n",
    "im_list_dcm = {}\n",
    "for idx, i in enumerate(ptobj['SeriesInstanceUIDs']):\n",
    "    im_list_dcm[i] = {'images': [], 'description': ptobj['SeriesDescriptions'][idx]}\n",
    "    images = glob.glob(f\"{ptobj['folder_path']}/{ptobj['SeriesInstanceUIDs'][idx]}/*.dcm\")\n",
    "    for j in sorted(images, key=lambda x: int(x.split('/')[-1].replace('.dcm', ''))):\n",
    "        im_list_dcm[i]['images'].append({\n",
    "            'SOPInstanceUID': j.split('/')[-1].replace('.dcm', ''), \n",
    "            'dicom': pydicom.dcmread(j) })"
   ]
  },
  {
   "cell_type": "code",
   "execution_count": null,
   "id": "23",
   "metadata": {},
   "outputs": [],
   "source": [
    "# Function to display images\n",
    "def display_images(images, title, max_images_per_row=4):\n",
    "    # Calculate the number of rows needed\n",
    "    num_images = len(images)\n",
    "    num_rows = (num_images + max_images_per_row - 1) // max_images_per_row  # Ceiling division\n",
    "\n",
    "    # Create a subplot grid\n",
    "    fig, axes = plt.subplots(num_rows, max_images_per_row, figsize=(5, 1.5 * num_rows))\n",
    "    \n",
    "    # Flatten axes array for easier looping if there are multiple rows\n",
    "    if num_rows > 1:\n",
    "        axes = axes.flatten()\n",
    "    else:\n",
    "        axes = [axes]  # Make it iterable for consistency\n",
    "\n",
    "    # Plot each image\n",
    "    for idx, image in enumerate(images):\n",
    "        ax = axes[idx]\n",
    "        ax.imshow(image, cmap='gray')  # Assuming grayscale for simplicity, change cmap as needed\n",
    "        ax.axis('off')  # Hide axes\n",
    "\n",
    "    # Turn off unused subplots\n",
    "    for idx in range(num_images, len(axes)):\n",
    "        axes[idx].axis('off')\n",
    "    fig.suptitle(title, fontsize=16)\n",
    "\n",
    "    plt.tight_layout()"
   ]
  },
  {
   "cell_type": "code",
   "execution_count": null,
   "id": "24",
   "metadata": {},
   "outputs": [],
   "source": [
    "for i in im_list_dcm:\n",
    "    display_images([x['dicom'].pixel_array for x in im_list_dcm[i]['images']], \n",
    "                   im_list_dcm[i]['description'])"
   ]
  },
  {
   "cell_type": "markdown",
   "id": "25",
   "metadata": {},
   "source": [
    "### Coordinates of pathologies"
   ]
  },
  {
   "cell_type": "code",
   "execution_count": null,
   "id": "26",
   "metadata": {},
   "outputs": [],
   "source": [
    "df_coor = pd.read_csv(CFG.DATA_DIR / 'train_label_coordinates.csv')"
   ]
  },
  {
   "cell_type": "code",
   "execution_count": null,
   "id": "27",
   "metadata": {},
   "outputs": [],
   "source": [
    "df_coor.head()"
   ]
  },
  {
   "cell_type": "code",
   "execution_count": null,
   "id": "28",
   "metadata": {},
   "outputs": [],
   "source": [
    "def display_coor_on_img(c, i, title):\n",
    "    center_coordinates = (int(c['x']), int(c['y']))\n",
    "    radius = 10\n",
    "    color = (255, 0, 0)  # Red color in BGR\n",
    "    thickness = 2\n",
    "    IMG = i['dicom'].pixel_array\n",
    "    IMG_normalized = cv2.normalize(IMG, None, alpha=0, beta=255, norm_type=cv2.NORM_MINMAX, dtype=cv2.CV_8U)\n",
    "    \n",
    "    IMG_with_circle = cv2.circle(IMG_normalized.copy(), center_coordinates, radius, color, thickness)\n",
    "    \n",
    "    # Convert the image from BGR to RGB for correct color display in matplotlib\n",
    "    IMG_with_circle = cv2.cvtColor(IMG_with_circle, cv2.COLOR_BGR2RGB)\n",
    "    \n",
    "    # Display the image\n",
    "    plt.imshow(IMG_with_circle)\n",
    "    plt.axis('off')  # Turn off axis numbers and ticks\n",
    "    plt.title(title)\n",
    "    plt.show()"
   ]
  },
  {
   "cell_type": "code",
   "execution_count": null,
   "id": "29",
   "metadata": {},
   "outputs": [],
   "source": [
    "coor_entries = df_coor[df_coor['study_id'] == int(patient['study_id'])]"
   ]
  },
  {
   "cell_type": "code",
   "execution_count": null,
   "id": "30",
   "metadata": {},
   "outputs": [],
   "source": [
    "print(\"Only showing severe cases for this patient\")\n",
    "for idc, c in coor_entries.iterrows():\n",
    "    for i in im_list_dcm[str(c['series_id'])]['images']:\n",
    "        if int(i['SOPInstanceUID']) == int(c['instance_number']):\n",
    "            try:\n",
    "                patient_severity = patient[\n",
    "                    f\"{c['condition'].lower().replace(' ', '_')}_{c['level'].lower().replace('/', '_')}\"\n",
    "                ]\n",
    "            except Exception as e:\n",
    "                patient_severity = \"unknown severity\"\n",
    "            title = f\"{i['SOPInstanceUID']} \\n{c['level']}, {c['condition']}: {patient_severity} \\n{c['x']}, {c['y']}\"\n",
    "            if patient_severity == 'Severe':\n",
    "                display_coor_on_img(c, i, title)"
   ]
  },
  {
   "cell_type": "markdown",
   "id": "31",
   "metadata": {},
   "source": [
    "#### Thanks Abhinav!\n",
    "---"
   ]
  },
  {
   "cell_type": "markdown",
   "id": "32",
   "metadata": {},
   "source": [
    "## Roadmap\n",
    "\n",
    "- [ ] Decide on model structure\n",
    "- [ ] Decide on Convolution Dim\n",
    "- [ ] Decide on kernel"
   ]
  },
  {
   "cell_type": "code",
   "execution_count": null,
   "id": "33",
   "metadata": {},
   "outputs": [],
   "source": []
  }
 ],
 "metadata": {
  "kernelspec": {
   "display_name": "Python 3",
   "language": "python",
   "name": "python3"
  },
  "language_info": {
   "codemirror_mode": {
    "name": "ipython",
    "version": 2
   },
   "file_extension": ".py",
   "mimetype": "text/x-python",
   "name": "python",
   "nbconvert_exporter": "python",
   "pygments_lexer": "ipython2",
   "version": "2.7.6"
  }
 },
 "nbformat": 4,
 "nbformat_minor": 5
}
